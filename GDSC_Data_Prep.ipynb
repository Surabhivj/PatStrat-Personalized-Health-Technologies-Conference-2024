{
 "cells": [
  {
   "cell_type": "code",
   "execution_count": 1,
   "metadata": {},
   "outputs": [],
   "source": [
    "from sklearn.preprocessing import LabelEncoder\n",
    "from sklearn.decomposition import PCA\n",
    "import matplotlib.pyplot as plt\n",
    "import seaborn as sns\n",
    "import numpy as np\n",
    "import pandas as pd\n",
    "import networkx as nx\n",
    "import os\n",
    "from sklearn.feature_selection import mutual_info_regression\n",
    "from scipy.stats import zscore"
   ]
  },
  {
   "cell_type": "markdown",
   "metadata": {},
   "source": [
    "### Transcriptomics\n"
   ]
  },
  {
   "cell_type": "code",
   "execution_count": null,
   "metadata": {},
   "outputs": [],
   "source": [
    "rnaseq = pd.read_csv(\"data/rnaseq_tpm_20220624.csv\", index_col=0)\n",
    "rnaseq = rnaseq.transpose()\n",
    "rnaseq = rnaseq.drop(columns=['model_name','data_source','gene_id'], index=\"Unnamed: 1\")\n",
    "rna_organoid = rnaseq[rnaseq['dataset_name'] == 'Sanger Organoid RNASeq'].drop(columns=['dataset_name'])\n",
    "rna_organoid = rna_organoid.apply(pd.to_numeric)\n",
    "rna_organoid = rna_organoid.loc[(rna_organoid.sum(axis=1) != 0), (rna_organoid.sum(axis=0) >  len(rna_organoid) * 2)]\n",
    "rna_cell_lines = rnaseq[rnaseq['dataset_name'] == 'Sanger & Broad Cell Lines RNASeq'].drop(columns=['dataset_name'])\n",
    "rna_cell_lines = rna_cell_lines.apply(pd.to_numeric)\n",
    "rna_cell_lines = rna_cell_lines.loc[(rna_cell_lines.sum(axis=1) != 0), (rna_cell_lines.sum(axis=0) > len(rna_cell_lines) * 2)]\n",
    "rna_cell_lines = rna_cell_lines.fillna(0)\n",
    "rna_cell_lines = rna_cell_lines + 1\n",
    "rna_cell_lines.columns = list(rna_cell_lines.columns.values)\n",
    "rna_cell_lines\n",
    "rna_cell_lines.to_csv(\"data/gene_expression.csv\", index=True)"
   ]
  },
  {
   "cell_type": "markdown",
   "metadata": {},
   "source": [
    "### Proteomics\n"
   ]
  },
  {
   "cell_type": "code",
   "execution_count": null,
   "metadata": {},
   "outputs": [],
   "source": [
    "prot = pd.read_csv(\"data/Protein_matrix_averaged_20221214.tsv\", index_col=1, sep=\"\\t\")\n",
    "prot = prot.drop(columns=['uniprot_id'], index='model_id')\n",
    "prot = prot[prot.index.notnull()]\n",
    "prot = prot.apply(pd.to_numeric)\n",
    "prot = prot.drop(columns=prot.columns[prot.isna().sum() > len(prot) * 0.01])\n",
    "prot = prot.fillna(0)\n",
    "prot = prot + 1\n",
    "prot.sort_index(inplace=True)\n",
    "prot.to_csv(\"data/protein_abundance.csv\", index=True)\n",
    "prot"
   ]
  },
  {
   "cell_type": "markdown",
   "metadata": {},
   "source": [
    "#"
   ]
  }
 ],
 "metadata": {
  "kernelspec": {
   "display_name": "patstrat",
   "language": "python",
   "name": "python3"
  },
  "language_info": {
   "codemirror_mode": {
    "name": "ipython",
    "version": 3
   },
   "file_extension": ".py",
   "mimetype": "text/x-python",
   "name": "python",
   "nbconvert_exporter": "python",
   "pygments_lexer": "ipython3",
   "version": "3.7.12"
  }
 },
 "nbformat": 4,
 "nbformat_minor": 2
}
