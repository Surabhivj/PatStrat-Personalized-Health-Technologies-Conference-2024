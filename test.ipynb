{
 "cells": [
  {
   "cell_type": "code",
   "execution_count": 1,
   "metadata": {},
   "outputs": [],
   "source": [
    "from sklearn.preprocessing import LabelEncoder\n",
    "from sklearn.decomposition import PCA\n",
    "import matplotlib.pyplot as plt\n",
    "import seaborn as sns\n",
    "import numpy as np\n",
    "import pandas as pd\n",
    "import networkx as nx\n",
    "import os\n",
    "from sklearn.metrics import mutual_info_score\n",
    "from scipy.stats import zscore\n",
    "import pandas as pd\n",
    "from sklearn.preprocessing import LabelEncoder\n",
    "#import packages\n",
    "import pandas as pd\n",
    "import wget\n",
    "from datetime import date\n",
    "import gzip\n",
    "import pandas as pd\n",
    "from itertools import combinations"
   ]
  },
  {
   "cell_type": "code",
   "execution_count": 67,
   "metadata": {},
   "outputs": [
    {
     "data": {
      "text/plain": [
       "634"
      ]
     },
     "execution_count": 67,
     "metadata": {},
     "output_type": "execute_result"
    }
   ],
   "source": [
    "drug_response = pd.read_csv(\"data/drug_response.csv\", index_col=0)\n",
    "drug_response = drug_response[drug_response['TCGA_DESC'] != 'UNCLASSIFIED']\n",
    "# Count occurrences of each value in 'TCGA_DESC'\n",
    "value_counts = drug_response['TCGA_DESC'].value_counts()\n",
    "# Filter to keep only those values that appear more than 10,000 times\n",
    "values_to_keep = value_counts[value_counts > 10000].index\n",
    "# Filter the DataFrame to include only rows where 'TCGA_DESC' is in the values_to_keep\n",
    "drug_response = drug_response[drug_response['TCGA_DESC'].isin(values_to_keep)]\n",
    "models = drug_response.index.drop_duplicates()\n",
    "len(models)"
   ]
  },
  {
   "cell_type": "code",
   "execution_count": 75,
   "metadata": {},
   "outputs": [],
   "source": []
  },
  {
   "cell_type": "code",
   "execution_count": null,
   "metadata": {},
   "outputs": [],
   "source": []
  }
 ],
 "metadata": {
  "kernelspec": {
   "display_name": "graph_env",
   "language": "python",
   "name": "python3"
  },
  "language_info": {
   "codemirror_mode": {
    "name": "ipython",
    "version": 3
   },
   "file_extension": ".py",
   "mimetype": "text/x-python",
   "name": "python",
   "nbconvert_exporter": "python",
   "pygments_lexer": "ipython3",
   "version": "3.7.12"
  }
 },
 "nbformat": 4,
 "nbformat_minor": 2
}
