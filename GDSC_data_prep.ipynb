{
 "cells": [
  {
   "cell_type": "code",
   "execution_count": null,
   "metadata": {},
   "outputs": [],
   "source": [
    "from sklearn.preprocessing import LabelEncoder\n",
    "from sklearn.decomposition import PCA\n",
    "import matplotlib.pyplot as plt\n",
    "import seaborn as sns\n",
    "import numpy as np\n",
    "import pandas as pd\n",
    "import networkx as nx\n",
    "import os\n",
    "from sklearn.metrics import mutual_info_score\n",
    "from scipy.stats import zscore\n",
    "import pandas as pd\n",
    "from sklearn.preprocessing import LabelEncoder\n",
    "#import packages\n",
    "import pandas as pd\n",
    "import wget\n",
    "from datetime import date\n",
    "import gzip\n",
    "import pandas as pd\n",
    "from itertools import combinations"
   ]
  },
  {
   "cell_type": "code",
   "execution_count": null,
   "metadata": {},
   "outputs": [],
   "source": [
    "drug_response = pd.read_csv(\"data/drug_response.csv\", index_col=0)\n",
    "drug_response = drug_response[drug_response['TCGA_DESC'] != 'UNCLASSIFIED']\n",
    "# Count occurrences of each value in 'TCGA_DESC'\n",
    "value_counts = drug_response['TCGA_DESC'].value_counts()\n",
    "# Filter to keep only those values that appear more than 10,000 times\n",
    "values_to_keep = value_counts[value_counts > 10000].index\n",
    "# Filter the DataFrame to include only rows where 'TCGA_DESC' is in the values_to_keep\n",
    "drug_response = drug_response[drug_response['TCGA_DESC'].isin(values_to_keep)]\n",
    "models = drug_response.index.drop_duplicates()\n",
    "len(models)"
   ]
  },
  {
   "cell_type": "markdown",
   "metadata": {},
   "source": [
    "## Read and Preprocess data"
   ]
  },
  {
   "cell_type": "markdown",
   "metadata": {},
   "source": [
    "### Transcriptomics data"
   ]
  },
  {
   "cell_type": "code",
   "execution_count": null,
   "metadata": {},
   "outputs": [],
   "source": [
    "gene_expression = pd.read_csv(\"data/gene_expression.csv\", index_col=0)\n",
    "gene_expression = gene_expression[gene_expression.index.isin(models)]\n",
    "gene_expression"
   ]
  },
  {
   "cell_type": "markdown",
   "metadata": {},
   "source": [
    "#### Prepare data for inferelator"
   ]
  },
  {
   "cell_type": "code",
   "execution_count": null,
   "metadata": {},
   "outputs": [],
   "source": [
    "tfs = pd.read_csv(\"data/tf.txt\")\n",
    "tfs = list(tfs['ID'].values)\n",
    "\n",
    "gene_ids = pd.read_csv(\"data/gene_identifiers_20191101.csv\")[['gene_id','ensembl_gene_id','cosmic_gene_symbol']]\n",
    "gene_ids.dropna(inplace=True)\n",
    "gene_ids = gene_ids[gene_ids['gene_id'].isin(gene_expression.columns)].reset_index(drop=True)"
   ]
  },
  {
   "cell_type": "code",
   "execution_count": null,
   "metadata": {},
   "outputs": [],
   "source": [
    "gene_expression = gene_expression[list(gene_ids['gene_id'])]\n",
    "mapping = dict(zip(gene_ids['gene_id'], gene_ids['cosmic_gene_symbol']))\n",
    "gene_expression.rename(columns=mapping, inplace=True)\n",
    "gene_expression"
   ]
  },
  {
   "cell_type": "code",
   "execution_count": null,
   "metadata": {},
   "outputs": [],
   "source": [
    "tf_sidg = gene_ids[gene_ids['ensembl_gene_id'].isin(tfs)].reset_index(drop=True)['cosmic_gene_symbol']\n",
    "tf_sidg.dropna(inplace=True)"
   ]
  },
  {
   "cell_type": "code",
   "execution_count": null,
   "metadata": {},
   "outputs": [],
   "source": [
    "refnet = pd.read_csv(\"data/Human_TFtarget_GS.csv\",header=None)\n",
    "refnet = refnet[refnet[0].isin(gene_expression.columns)]\n",
    "refnet = refnet[refnet[1].isin(gene_expression.columns)]\n",
    "G = nx.from_pandas_edgelist(refnet, source=0, target=1)\n",
    "adj_matrix = nx.to_pandas_adjacency(G, dtype=int)\n",
    "refnet = adj_matrix[adj_matrix.columns.isin(tf_sidg)].T\n",
    "refnet.drop_duplicates(inplace=True)\n",
    "refnet"
   ]
  },
  {
   "cell_type": "code",
   "execution_count": null,
   "metadata": {},
   "outputs": [],
   "source": [
    "cancers = drug_response['TCGA_DESC'].unique()\n",
    "cancers\n",
    "\n",
    "# Define the directory path\n",
    "rnaDIR = 'data/transcriptomics/'\n",
    "\n",
    "# Create the directory path if it doesn't exist\n",
    "os.makedirs(rnaDIR, exist_ok=True)\n",
    "for cancer in cancers:\n",
    "    cancer_samples = list(drug_response[drug_response['TCGA_DESC'] == cancer].index)\n",
    "    sub_gene_expression = gene_expression[gene_expression.index.isin(cancer_samples)]\n",
    "    sub_gene_expression.to_csv(os.path.join(rnaDIR, cancer + '_gene_expression.tsv.gz'), sep='\\t', index=True)\n",
    "\n",
    "tf_sidg.to_csv(os.path.join(rnaDIR,'tf_names.tsv'), sep='\\t', index=False, header=None)\n",
    "refnet.to_csv(os.path.join(rnaDIR,'refnet.tsv.gz'), sep='\\t', index=True)"
   ]
  },
  {
   "cell_type": "markdown",
   "metadata": {},
   "source": [
    "### Proteomics Data"
   ]
  },
  {
   "cell_type": "code",
   "execution_count": null,
   "metadata": {},
   "outputs": [],
   "source": [
    "prot_expression = pd.read_csv(\"data/protein_abundance.csv\", index_col=0)\n",
    "prot_expression = prot_expression[prot_expression.index.isin(models)]\n",
    "prot_expression = prot_expression[1:10]\n",
    "prot_expression\n"
   ]
  },
  {
   "cell_type": "code",
   "execution_count": null,
   "metadata": {},
   "outputs": [],
   "source": [
    "from sklearn.preprocessing import MinMaxScaler\n",
    "\n",
    "scaler = MinMaxScaler()\n",
    "prot_expression = pd.DataFrame(scaler.fit_transform(prot_expression), columns=prot_expression.columns)\n",
    "gene_ids = pd.read_csv(\"data/gene_identifiers_20191101.csv\")\n",
    "id_dict = dict(zip(gene_ids['uniprot_id'], gene_ids['cosmic_gene_symbol']))\n",
    "prot_expression.rename(columns=id_dict, inplace=True)\n",
    "prot_expression = prot_expression.loc[:, prot_expression.columns.notna()]\n",
    "prot_expression"
   ]
  },
  {
   "cell_type": "code",
   "execution_count": null,
   "metadata": {},
   "outputs": [],
   "source": []
  },
  {
   "cell_type": "code",
   "execution_count": null,
   "metadata": {},
   "outputs": [],
   "source": [
    "# To download string network\n",
    "String_network_url = \"https://stringdb-static.org/download/protein.links.detailed.v11.5/9606.protein.links.detailed.v11.5.txt.gz\"\n",
    "String_url_file = os.path.join('data',\"String_PPI.txt.gz\")\n",
    "#response = wget.download(String_network_url, String_url_file)\n",
    "#string_info_dat = pd.read_csv(String_info_url_file, sep= ' ')\n",
    "string_ppi_dat = pd.read_csv(os.path.join('data',\"String_PPI.txt.gz\"), sep= ' ')\n",
    "string_ppi_dat = string_ppi_dat[string_ppi_dat['experimental']>700].reset_index(drop=True)\n",
    "string_ppi_dat = string_ppi_dat[['protein1','protein2']]\n",
    "string_ppi_dat"
   ]
  },
  {
   "cell_type": "code",
   "execution_count": null,
   "metadata": {},
   "outputs": [],
   "source": [
    "# To download string network metadata\n",
    "#String_info_url = \"https://stringdb-static.org/download/protein.info.v11.5/9606.protein.info.v11.5.txt.gz\"\n",
    "String_info_url_file = os.path.join('data',\"String_protein_info.txt.gz\")\n",
    "#response = wget.download(String_info_url, String_info_url_file)\n",
    "\n",
    "#string_ppi_dat\n",
    "string_info_dat = pd.read_csv(String_info_url_file, sep='\\t')\n",
    "string_id_dict = dict(zip(string_info_dat['#string_protein_id'], string_info_dat['preferred_name']))\n",
    "string_net = string_ppi_dat.replace(string_id_dict)"
   ]
  },
  {
   "cell_type": "code",
   "execution_count": null,
   "metadata": {},
   "outputs": [],
   "source": [
    "string_net"
   ]
  },
  {
   "cell_type": "code",
   "execution_count": null,
   "metadata": {},
   "outputs": [],
   "source": [
    "pnet = compute_mutual_information(prot_expression)"
   ]
  },
  {
   "cell_type": "code",
   "execution_count": null,
   "metadata": {},
   "outputs": [],
   "source": []
  },
  {
   "cell_type": "code",
   "execution_count": null,
   "metadata": {},
   "outputs": [],
   "source": []
  },
  {
   "cell_type": "code",
   "execution_count": null,
   "metadata": {},
   "outputs": [],
   "source": [
    "\n",
    "\n",
    "import matplotlib.pyplot as plt\n",
    "import seaborn as sns\n",
    "import numpy as np\n",
    "import pandas as pd\n",
    "import networkx as nx\n",
    "import os\n",
    "from scipy.stats import zscore\n",
    "#import packages\n",
    "import wget\n",
    "from datetime import date\n",
    "import gzip\n",
    "from sklearn.metrics import normalized_mutual_info_score\n",
    "\n",
    "# Function to compute mutual information between two columns\n",
    "def mutual_information(x, y):\n",
    "    return normalized_mutual_info_score(x, y)\n",
    "\n",
    "# Compute mutual information for each pair of proteins\n",
    "def compute_mutual_information(df):\n",
    "    # Initialize a DataFrame to store mutual information scores\n",
    "    mutual_info_df = pd.DataFrame(index=df.columns, columns=df.columns)\n",
    "\n",
    "    # Compute mutual information for each pair of columns\n",
    "    for col1 in df.columns:\n",
    "        for col2 in df.columns:\n",
    "            mutual_info_df.loc[col1, col2] = mutual_information(df[col1], df[col2])\n",
    "    \n",
    "    # Create a list to store pairs with mutual information > 0.7\n",
    "    pairs = []\n",
    "    for col1 in mutual_info_df.columns:\n",
    "        for col2 in mutual_info_df.columns:\n",
    "            if col1 != col2:\n",
    "                mi_score = mutual_info_df.loc[col1, col2]\n",
    "                if mi_score > 0.7:\n",
    "                    pairs.append((col1, col2, mi_score))\n",
    "\n",
    "    # Create a DataFrame for the pairwise scores\n",
    "    pairwise_df = pd.DataFrame(pairs, columns=['protein1', 'protein2', 'Mutual Information'])\n",
    "    pairwise_df = pairwise_df[['protein1', 'protein2']]\n",
    "    \n",
    "    return pairwise_df"
   ]
  },
  {
   "cell_type": "code",
   "execution_count": null,
   "metadata": {},
   "outputs": [],
   "source": [
    "cancers = drug_response['TCGA_DESC'].unique()\n",
    "cancers\n",
    "\n",
    "# Define the directory path\n",
    "protDIR = 'results/proteomics/'\n",
    "\n",
    "# Create the directory path if it doesn't exist\n",
    "os.makedirs(protDIR, exist_ok=True)\n",
    "for cancer in cancers:\n",
    "    cancer_samples = list(drug_response[drug_response['TCGA_DESC'] == cancer].index)\n",
    "    sub_prot_expression = prot_expression[prot_expression.index.isin(cancer_samples)]\n",
    "    string_net1 = string_net[string_net['protein1'].isin(sub_prot_expression.columns)]\n",
    "    string_net2 = string_net1[string_net1['protein2'].isin(sub_prot_expression.columns)]\n",
    "    mutual_info_matrix = compute_mutual_information(sub_prot_expression)\n",
    "    protnet = pd.concat(mutual_info_matrix,string_net2)\n",
    "    print(protnet)\n",
    "    protnet.to_csv(os.path.join(protDIR, cancer + '_prot_net.tsv.gz'), sep='\\t', index=True)\n"
   ]
  },
  {
   "cell_type": "code",
   "execution_count": null,
   "metadata": {},
   "outputs": [],
   "source": []
  },
  {
   "cell_type": "markdown",
   "metadata": {},
   "source": [
    "### Mutation data"
   ]
  },
  {
   "cell_type": "code",
   "execution_count": null,
   "metadata": {},
   "outputs": [],
   "source": [
    "mut = pd.read_csv('data/mutations_all_20230202.csv')\n",
    "mut = mut[mut['model_id'].isin(models)].reset_index(drop=True)\n",
    "mut.index = mut['model_id'].values\n",
    "mut"
   ]
  },
  {
   "cell_type": "code",
   "execution_count": null,
   "metadata": {},
   "outputs": [],
   "source": [
    "mut.index = mut['model_id'].values\n",
    "data = mut[['gene_symbol']]\n",
    "data.sort_values('gene_symbol')"
   ]
  },
  {
   "cell_type": "code",
   "execution_count": null,
   "metadata": {},
   "outputs": [],
   "source": [
    "prot_mut = mut[['gene_symbol', 'protein_mutation']]\n",
    "rna_mut = mut[['gene_symbol', 'rna_mutation']]\n",
    "cdna_mut = mut[['gene_symbol', 'cdna_mutation']]"
   ]
  },
  {
   "cell_type": "code",
   "execution_count": null,
   "metadata": {},
   "outputs": [],
   "source": [
    "all_mut = pd.DataFrame(columns=['source', 'target'])\n",
    "for mutation_table in [prot_mut, cdna_mut, rna_mut]:\n",
    "    mutation_table = mutation_table[(mutation_table.iloc[:, 1] != '-') & \n",
    "                                    (mutation_table.iloc[:, 1] != 'p.?') & \n",
    "                                    (mutation_table.iloc[:, 1] != 'r.?') &\n",
    "                                    (mutation_table.iloc[:, 1] != 'c.?')]\n",
    "    mutation_table.columns = ['source', 'target']\n",
    "    all_mut = pd.concat([all_mut, mutation_table], ignore_index=False)\n"
   ]
  },
  {
   "cell_type": "code",
   "execution_count": null,
   "metadata": {},
   "outputs": [],
   "source": [
    "# Dictionary to hold the index pairs and their counts\n",
    "pair_counts = defaultdict(int)\n",
    "\n",
    "# Process the data\n",
    "sid_groups = all_mut.groupby(all_mut.index)['source'].apply(list)"
   ]
  },
  {
   "cell_type": "code",
   "execution_count": null,
   "metadata": {},
   "outputs": [],
   "source": [
    "sid_groups"
   ]
  },
  {
   "cell_type": "code",
   "execution_count": 39,
   "metadata": {},
   "outputs": [],
   "source": [
    "# Generate pairs and count them\n",
    "for indices in sid_groups:\n",
    "    for pair in combinations(indices, 2):\n",
    "        print(pair)\n",
    "        sorted_pair = tuple(sorted(pair))  # Ensure (A, B) and (B, A) are treated the same\n",
    "        pair_counts[sorted_pair] += 1"
   ]
  },
  {
   "cell_type": "code",
   "execution_count": null,
   "metadata": {},
   "outputs": [],
   "source": [
    "# Dictionary to hold the index pairs and their counts\n",
    "pair_counts = defaultdict(int)\n",
    "\n",
    "# Process the data\n",
    "sid_groups = all_mut.groupby(all_mut.index)['source'].apply(list)\n",
    "\n",
    "# Generate pairs and count them\n",
    "for indices in sid_groups:\n",
    "    for pair in combinations(indices, 2):\n",
    "        print(pair)\n",
    "        sorted_pair = tuple(sorted(pair))  # Ensure (A, B) and (B, A) are treated the same\n",
    "        pair_counts[sorted_pair] += 1\n",
    "\n",
    "# Convert the dictionary to a DataFrame for easier viewing\n",
    "pair_counts_df = pd.DataFrame([(pair[0], pair[1], count) for pair, count in pair_counts.items()],\n",
    "                              columns=['Index1', 'Index2', 'Count'])\n",
    "\n",
    "# Display the result\n",
    "print(pair_counts_df)"
   ]
  },
  {
   "cell_type": "code",
   "execution_count": null,
   "metadata": {},
   "outputs": [],
   "source": [
    "import pandas as pd\n",
    "from itertools import combinations\n",
    "from collections import defaultdict\n",
    "\n",
    "\n",
    "# Function to generate unique pairs with their counts\n",
    "def generate_unique_pairs(data):\n",
    "    pair_counts = defaultdict(int)\n",
    "    seen_pairs = set()\n",
    "    \n",
    "    for sid, group in data.groupby('SID'):\n",
    "        indices = group['Index'].tolist()\n",
    "        for pair in combinations(indices, 2):\n",
    "            sorted_pair = tuple(sorted(pair))\n",
    "            pair_counts[sorted_pair] += 1\n",
    "            seen_pairs.add(sorted_pair)\n",
    "    \n",
    "    # Generate the final result with pairs and their counts\n",
    "    for pair, count in pair_counts.items():\n",
    "        yield pair[0], pair[1], count\n",
    "\n",
    "# Generate the unique pairs with counts\n",
    "unique_pairs_with_counts = list(generate_unique_pairs(df))\n",
    "\n",
    "# Convert the result to a DataFrame for easier viewing\n",
    "pair_counts_df = pd.DataFrame(unique_pairs_with_counts, columns=['Index1', 'Index2', 'Count'])\n",
    "\n",
    "# Display the result\n",
    "print(pair_counts_df)"
   ]
  },
  {
   "cell_type": "markdown",
   "metadata": {},
   "source": []
  },
  {
   "cell_type": "code",
   "execution_count": null,
   "metadata": {},
   "outputs": [],
   "source": [
    "# Assuming drug_response, prot_mut, cdna_mut, and rna_mut are already defined\n",
    "cancers = drug_response['TCGA_DESC'].unique()\n",
    "\n",
    "# Define the directory path\n",
    "mutDIR = 'results/genomics/'\n",
    "\n",
    "# Create the directory path if it doesn't exist\n",
    "os.makedirs(mutDIR, exist_ok=True)\n",
    "\n",
    "for cancer in cancers:\n",
    "    all_mut = pd.DataFrame(columns=['gene_symbol', 'mutation'])\n",
    "    for mutation_table in [prot_mut, cdna_mut, rna_mut]:\n",
    "        mutation_table = mutation_table[(mutation_table.iloc[:, 1] != '-') & \n",
    "                                        (mutation_table.iloc[:, 1] != 'p.?') & \n",
    "                                        (mutation_table.iloc[:, 1] != 'r.?') &\n",
    "                                        (mutation_table.iloc[:, 1] != 'c.?')].reset_index(drop=True)\n",
    "        mutation_table.columns = ['gene_symbol', 'mutation']\n",
    "        all_mut = pd.concat([all_mut, mutation_table], ignore_index=True)\n",
    "    \n",
    "    # Save to CSV\n",
    "    output_file = os.path.join(mutDIR, f'{cancer}_mutations.tsv.gz')\n",
    "    all_mut.to_csv(output_file, sep='\\t', index=False)"
   ]
  },
  {
   "cell_type": "markdown",
   "metadata": {},
   "source": [
    "### PSN- Genomics"
   ]
  },
  {
   "cell_type": "code",
   "execution_count": null,
   "metadata": {},
   "outputs": [],
   "source": []
  },
  {
   "cell_type": "code",
   "execution_count": null,
   "metadata": {},
   "outputs": [],
   "source": [
    "net = pd.read_csv(\"results/integrated_PSN.csv\")\n",
    "\n",
    "\n",
    "# Step 1: Create the mapping from strings to numbers\n",
    "string_to_number = {s: i for i, s in enumerate(set(drug_response.index))}\n",
    "\n",
    "# Step 2: Create the reverse mapping from numbers to strings\n",
    "number_to_string = {float(i): s for s, i in string_to_number.items()}\n",
    "\n",
    "net['patient1'].replace(number_to_string, inplace=True)\n",
    "net['patient2'].replace(number_to_string, inplace=True)\n",
    "\n",
    "net = net[net['patient1'] != net['patient2']]\n",
    "# Apply the function to each row\n",
    "net = net[['patient1', 'patient2']].apply(sort_row, axis=1)\n",
    "net.drop_duplicates(inplace=True)\n",
    "net.reset_index(drop=True, inplace=True)\n"
   ]
  },
  {
   "cell_type": "code",
   "execution_count": null,
   "metadata": {},
   "outputs": [],
   "source": [
    "mnet_folder = \"/home/surabhi/Documents/PatStrat-Personalized-Health-Technologies-Conference-2024/results/genomics\"\n",
    "gnet_folder = \"/home/surabhi/Documents/PatStrat-Personalized-Health-Technologies-Conference-2024/results/transcriptomics\"\n",
    "pnet_folder = \"/home/surabhi/Documents/PatStrat-Personalized-Health-Technologies-Conference-2024/results/proteomics\""
   ]
  },
  {
   "cell_type": "code",
   "execution_count": null,
   "metadata": {},
   "outputs": [],
   "source": [
    "idx = 1"
   ]
  },
  {
   "cell_type": "code",
   "execution_count": null,
   "metadata": {},
   "outputs": [],
   "source": [
    "mnet_path = sorted(os.listdir(mnet_folder))[idx]\n",
    "gnet_path = sorted(os.listdir(gnet_folder))[idx]\n",
    "pnet_path = sorted(os.listdir(pnet_folder))[idx]"
   ]
  },
  {
   "cell_type": "code",
   "execution_count": null,
   "metadata": {},
   "outputs": [],
   "source": [
    "net1 = pd.read_csv(os.path.join(mnet_folder, mnet_path), sep=\"\\t\")\n",
    "net1 = net1[['gene_symbol', 'mutation']].apply(sort_row, axis=1)\n",
    "net1 = net1.drop_duplicates()\n",
    "net1['type'] = 'genomics'"
   ]
  },
  {
   "cell_type": "code",
   "execution_count": null,
   "metadata": {},
   "outputs": [],
   "source": [
    "def sort_row(row):\n",
    "    return pd.Series(sorted(row))"
   ]
  },
  {
   "cell_type": "code",
   "execution_count": null,
   "metadata": {},
   "outputs": [],
   "source": [
    "net2 = pd.read_csv(os.path.join(pnet_folder, pnet_path), sep=\"\\t\", index_col=0)\n",
    "net2"
   ]
  },
  {
   "cell_type": "code",
   "execution_count": null,
   "metadata": {},
   "outputs": [],
   "source": [
    "net3 = pd.read_csv(os.path.join(gnet_folder, gnet_path, 'final', 'network.tsv.gz'), sep=\"\\t\")\n",
    "net3 = net3[net3['precision'] > 0.7]\n",
    "net3"
   ]
  },
  {
   "cell_type": "code",
   "execution_count": null,
   "metadata": {},
   "outputs": [],
   "source": [
    "net2[net2[0].isin(net3['target'])]"
   ]
  },
  {
   "cell_type": "markdown",
   "metadata": {},
   "source": [
    "### PSN\n"
   ]
  },
  {
   "cell_type": "code",
   "execution_count": null,
   "metadata": {},
   "outputs": [],
   "source": [
    "PSN_mut = pd.read_csv(\"results/PSN_mut_net.tsv.gz\", sep='\\t', index_col=0)\n",
    "PSN_rna= pd.read_csv(\"results/PSN_rna_net.tsv.gz\", sep='\\t', index_col=0)\n",
    "PSN_prot = pd.read_csv(\"results/PSN_prot_net.tsv.gz\", sep='\\t', index_col=0)\n"
   ]
  },
  {
   "cell_type": "code",
   "execution_count": null,
   "metadata": {},
   "outputs": [],
   "source": [
    "PSN_mut['type'] = 'genomics'\n",
    "PSN_rna['type'] = 'transcriptomics'\n",
    "PSN_prot['type'] = 'proteomics'"
   ]
  },
  {
   "cell_type": "code",
   "execution_count": null,
   "metadata": {},
   "outputs": [],
   "source": [
    "PSN_mut"
   ]
  },
  {
   "cell_type": "code",
   "execution_count": null,
   "metadata": {},
   "outputs": [],
   "source": [
    "PSN_rna"
   ]
  },
  {
   "cell_type": "code",
   "execution_count": null,
   "metadata": {},
   "outputs": [],
   "source": [
    "PSN_prot"
   ]
  },
  {
   "cell_type": "code",
   "execution_count": null,
   "metadata": {},
   "outputs": [],
   "source": []
  },
  {
   "cell_type": "code",
   "execution_count": null,
   "metadata": {},
   "outputs": [],
   "source": []
  }
 ],
 "metadata": {
  "kernelspec": {
   "display_name": "graph_env",
   "language": "python",
   "name": "python3"
  },
  "language_info": {
   "codemirror_mode": {
    "name": "ipython",
    "version": 3
   },
   "file_extension": ".py",
   "mimetype": "text/x-python",
   "name": "python",
   "nbconvert_exporter": "python",
   "pygments_lexer": "ipython3",
   "version": "3.7.12"
  }
 },
 "nbformat": 4,
 "nbformat_minor": 2
}
