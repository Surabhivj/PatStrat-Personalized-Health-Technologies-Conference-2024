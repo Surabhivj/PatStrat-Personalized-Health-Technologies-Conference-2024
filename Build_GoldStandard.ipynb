{
 "cells": [
  {
   "cell_type": "code",
   "execution_count": 1,
   "id": "2ef968c3-e4a1-4266-9787-7cad4e3517e0",
   "metadata": {},
   "outputs": [
    {
     "data": {
      "text/plain": [
       "'\\npip install pandas\\npip install wget\\n'"
      ]
     },
     "execution_count": 1,
     "metadata": {},
     "output_type": "execute_result"
    }
   ],
   "source": [
    "#install packages if required\n",
    "'''\n",
    "pip install pandas\n",
    "pip install wget\n",
    "'''"
   ]
  },
  {
   "cell_type": "code",
   "execution_count": 13,
   "id": "6b4d39a4-bcbb-4645-9837-7bc9b820ef9b",
   "metadata": {},
   "outputs": [],
   "source": [
    "#import packages\n",
    "import pandas as pd\n",
    "import wget\n",
    "from datetime import date\n",
    "import gzip"
   ]
  },
  {
   "cell_type": "code",
   "execution_count": 14,
   "id": "7c86170d-1216-4f6c-a60d-0c459c5ba734",
   "metadata": {},
   "outputs": [],
   "source": [
    "#To keep the information of date for the downloaded files\n",
    "today = date.today()\n",
    "date = today.strftime(\"%d%B%Y\")\n"
   ]
  },
  {
   "cell_type": "code",
   "execution_count": 15,
   "id": "b4f86bc7-9495-454b-8ae0-87431b8106ab",
   "metadata": {},
   "outputs": [
    {
     "name": "stdout",
     "output_type": "stream",
     "text": [
      "100% [......................................................] 2107299 / 2107299"
     ]
    }
   ],
   "source": [
    "#Download Human TFs database (Lambert et al.)\n",
    "human_TF_url = \"http://humantfs.ccbr.utoronto.ca/download/v_1.01/DatabaseExtract_v_1.01.txt\"\n",
    "human_TF_url_file = \"Human_TF_annotation_\" + date + \".txt\"\n",
    "response = wget.download(human_TF_url, human_TF_url_file)\n",
    "\n",
    "human_TF_dat = pd.read_csv(human_TF_url_file, sep = \"\\t\", index_col = 0)\n",
    "human_TF_dat = human_TF_dat[human_TF_dat['Is TF?'] == 'Yes']\n",
    "TF_list = human_TF_dat['HGNC symbol']\n",
    "#TF_list\n"
   ]
  },
  {
   "cell_type": "code",
   "execution_count": 16,
   "id": "6fd31d1b-d89a-49de-9ec8-9ab97a0ddc1b",
   "metadata": {},
   "outputs": [
    {
     "name": "stdout",
     "output_type": "stream",
     "text": [
      "100% [......................................................] 8801800 / 8801800"
     ]
    }
   ],
   "source": [
    "#download human genome annotation file\n",
    "human_gene_url = \"https://ftp.ncbi.nlm.nih.gov/genomes/refseq/vertebrate_mammalian/Homo_sapiens/latest_assembly_versions/GCF_000001405.40_GRCh38.p14/GCF_000001405.40_GRCh38.p14_feature_table.txt.gz\"\n",
    "human_gene_url_file = \"Human_gene_annotation_\" + date + \".txt.gz\"\n",
    "response = wget.download(human_gene_url, human_gene_url_file)\n"
   ]
  },
  {
   "cell_type": "code",
   "execution_count": 17,
   "id": "286d2555-98c9-4ec5-b070-af22ed5faed6",
   "metadata": {},
   "outputs": [],
   "source": [
    "human_gene_dat = pd.read_csv(human_gene_url_file, sep = \"\\t\",low_memory=False)\n",
    "human_gene_dat = human_gene_dat[human_gene_dat['# feature'] == 'gene']\n",
    "human_gene_dat = human_gene_dat[human_gene_dat['class'] == 'protein_coding'].reset_index(drop=True)\n",
    "human_gene_dat['type'] = ' '\n",
    "human_gene_dat.loc[human_gene_dat.symbol.isin(TF_list), 'type'] = 'TF'\n",
    "human_gene_dat.loc[~human_gene_dat.symbol.isin(TF_list), 'type'] = 'nTF'\n"
   ]
  },
  {
   "cell_type": "code",
   "execution_count": 18,
   "id": "2f04808f-e126-43b7-967e-9ced531c872c",
   "metadata": {},
   "outputs": [
    {
     "name": "stdout",
     "output_type": "stream",
     "text": [
      "100% [..................................................] 115547735 / 115547735"
     ]
    }
   ],
   "source": [
    "#link of files from databases\n",
    "# To download string network\n",
    "String_network_url = \"https://stringdb-static.org/download/protein.links.detailed.v11.5/9606.protein.links.detailed.v11.5.txt.gz\"\n",
    "String_url_file = \"String_PPI_\" + date + \".txt.gz\"\n",
    "response = wget.download(String_network_url, String_url_file)\n"
   ]
  },
  {
   "cell_type": "code",
   "execution_count": 19,
   "id": "79109247-f22b-4b31-a550-7d6eaef4651c",
   "metadata": {},
   "outputs": [
    {
     "name": "stdout",
     "output_type": "stream",
     "text": [
      "100% [......................................................] 1901833 / 1901833"
     ]
    }
   ],
   "source": [
    "# To download string network metadata\n",
    "String_info_url = \"https://stringdb-static.org/download/protein.info.v11.5/9606.protein.info.v11.5.txt.gz\"\n",
    "String_info_url_file = \"String_protein_info_\" + date + \".txt.gz\"\n",
    "response = wget.download(String_info_url, String_info_url_file)"
   ]
  },
  {
   "cell_type": "code",
   "execution_count": 71,
   "id": "06e67992-14f7-4cbb-b80d-a74041d727a1",
   "metadata": {},
   "outputs": [],
   "source": [
    "#string_info_dat = pd.read_csv(String_info_url_file, sep= ' ')\n",
    "string_ppi_dat = pd.read_csv(String_url_file, sep= ' ')\n",
    "string_ppi_dat = string_ppi_dat[string_ppi_dat['experimental']>700]\n",
    "\n",
    "#string_ppi_dat\n",
    "string_info_dat = pd.read_csv(String_info_url_file, sep='\\t')\n",
    "string_id_dict = dict(zip(string_info_dat['#string_protein_id'], string_info_dat['preferred_name']))\n",
    "\n",
    "string_anno_dict = dict(zip(string_info_dat['preferred_name'], string_info_dat['annotation']))\n",
    "human_gene_dat['annotation'] = human_gene_dat.symbol.map(string_anno_dict)\n",
    "human_gene_dat_file = \"human_gene_annotation_\" + date + \".txt\"\n",
    "human_gene_dat.to_csv(human_gene_dat_file,sep=\"\\t\")\n",
    "\n"
   ]
  },
  {
   "cell_type": "code",
   "execution_count": 72,
   "id": "2d1b1b0c-ac7f-4415-bbb9-1672e3c3ef06",
   "metadata": {},
   "outputs": [],
   "source": [
    "#string_id_dict\n",
    "string_ppi_dat = string_ppi_dat.replace({\"protein1\": string_id_dict})\n",
    "string_ppi_dat = string_ppi_dat.replace({\"protein2\": string_id_dict})\n",
    "string_ppi_dat1 = string_ppi_dat.reset_index()[[\"protein1\",\"protein2\"]]\n",
    "string_ppi_dat2 = string_ppi_dat[[\"protein2\",\"protein1\"]]\n",
    "string_ppi_dat2 = string_ppi_dat2.rename(columns={'protein2': 'protein1', 'protein1': 'protein2'})\n",
    "string_net_final = pd.concat([string_ppi_dat1, string_ppi_dat2]).reset_index(drop=True)\n",
    "string_net_final['Source'] = 'STRING (experimental)'\n"
   ]
  },
  {
   "cell_type": "code",
   "execution_count": null,
   "id": "18aefc43-d086-4125-90c9-571a2505164d",
   "metadata": {},
   "outputs": [],
   "source": [
    "Biogrid_network_url = \"https://downloads.thebiogrid.org/Download/BioGRID/Release-Archive/BIOGRID-4.4.208/BIOGRID-ALL-4.4.208.tab3.zip\"\n",
    "Biogrid_url_file = \"Biogrid_PPI_\" + date + \".tab3.zip\"\n",
    "response = wget.download(Biogrid_network_url, Biogrid_url_file)\n"
   ]
  },
  {
   "cell_type": "code",
   "execution_count": null,
   "id": "9ed12088-40a8-4d1a-ac49-292045574911",
   "metadata": {},
   "outputs": [],
   "source": [
    "biogrid_ppi_dat = pd.read_csv(Biogrid_url_file, sep= '\\t',low_memory=False)\n",
    "biogrid_ppi_dat = biogrid_ppi_dat[biogrid_ppi_dat['Organism Name Interactor A'] == 'Homo sapiens'].reset_index(drop=True)\n",
    "biogrid_ppi_dat = biogrid_ppi_dat[biogrid_ppi_dat['Organism Name Interactor B'] == 'Homo sapiens'].reset_index(drop=True)\n",
    "biogrid_ppi_dat = biogrid_ppi_dat.rename(columns={'Official Symbol Interactor A': 'protein1', 'Official Symbol Interactor B': 'protein2','Publication Source' : 'Source'})\n",
    "\n",
    "biogrid_ppi_dat1 = biogrid_ppi_dat[['protein1','protein2','Source']]\n",
    "biogrid_ppi_dat2 = biogrid_ppi_dat[['protein2','protein1','Source']]    \n",
    "biogrid_ppi_dat2 = biogrid_ppi_dat2.rename(columns={'protein2': 'protein1', 'protein1': 'protein2'})\n",
    "biogrid_net_final = pd.concat([biogrid_ppi_dat1, biogrid_ppi_dat2]).reset_index(drop=True)\n",
    "biogrid_net_final['Source'] = ['BIOGRID ('+str(x) +')' for x in biogrid_net_final['Source']]  \n"
   ]
  },
  {
   "cell_type": "code",
   "execution_count": 70,
   "id": "0b66d63d-ec48-4669-92ee-83c0515f0305",
   "metadata": {},
   "outputs": [
    {
     "name": "stdout",
     "output_type": "stream",
     "text": [
      "100% [....................................................] 43260023 / 43260023"
     ]
    }
   ],
   "source": [
    "#Download PPI network from IntAct database\n",
    "HelkaGoos_network_url = \"https://ftp.ebi.ac.uk/pub/databases/intact/current/psimitab/pmid/2022/unassigned3314.txt\"\n",
    "HelkaGoos_url_file = \"HelkaGoos_TF_target_\" + date + \".txt\"\n",
    "response = wget.download(HelkaGoos_network_url, HelkaGoos_url_file)\n"
   ]
  },
  {
   "cell_type": "code",
   "execution_count": null,
   "id": "99ba8f6d-d1fd-40ba-adbe-3567668cdfbc",
   "metadata": {},
   "outputs": [],
   "source": [
    "HelkaGoos_ppi_dat = pd.read_csv(HelkaGoos_url_file, sep= '\\t',low_memory=False)\n",
    "HelkaGoos_ppi_dat = HelkaGoos_ppi_dat.rename(columns={'#ID(s) interactor A':'protein1','ID(s) interactor B':'protein2','Publication Identifier(s)':'Source'})\n",
    "\n",
    "HelkaGoos_ppi_dat1 = HelkaGoos_ppi_dat[['protein1','protein2','Source']]\n",
    "HelkaGoos_ppi_dat2 = HelkaGoos_ppi_dat[['protein2','protein1','Source']]\n",
    "HelkaGoos_ppi_dat2 = HelkaGoos_ppi_dat2.rename(columns={'protein2' : 'protein1', 'protein1': 'protein2'})\n",
    "\n",
    "HelkaGoos_net_final = pd.concat([HelkaGoos_ppi_dat1, HelkaGoos_ppi_dat2]).reset_index(drop=True)\n",
    "HelkaGoos_net_final['Source'] = ['HelkaGoos ('+str(x) +')' for x in HelkaGoos_net_final['Source']]\n",
    "  \n",
    "HelkaGoos_net_final = HelkaGoos_net_final[HelkaGoos_net_final['protein1'].str.contains(r'uniprotkb')]\n",
    "HelkaGoos_net_final = HelkaGoos_net_final[HelkaGoos_net_final['protein2'].str.contains(r'uniprotkb')]\n",
    "\n",
    "HelkaGoos_net_final['protein1'] = HelkaGoos_net_final['protein1'].str.replace('uniprotkb:',' ')\n",
    "HelkaGoos_net_final['protein2'] = HelkaGoos_net_final['protein2'].str.replace('uniprotkb:',' ')\n"
   ]
  },
  {
   "cell_type": "code",
   "execution_count": null,
   "id": "e33a2de4-c148-438e-9809-8e2dac2ec432",
   "metadata": {},
   "outputs": [],
   "source": [
    "IntAct_network_url = \"https://ftp.ebi.ac.uk/pub/databases/intact/current/psimitab/intact.txt\"\n",
    "IntAct_url_file = \"IntAct_PPI_\" + date + '.txt'\n",
    "response = wget.download(IntAct_network_url, IntAct_url_file)"
   ]
  },
  {
   "cell_type": "code",
   "execution_count": null,
   "id": "19ec6e87-747b-4598-8e89-26522acae7fc",
   "metadata": {},
   "outputs": [],
   "source": [
    "IntAct_ppi_dat = pd.read_csv(IntAct_url_file, sep= '\\t',low_memory=False)"
   ]
  },
  {
   "cell_type": "code",
   "execution_count": null,
   "id": "12d45893-03c9-4f00-af1b-1966a65b774d",
   "metadata": {},
   "outputs": [],
   "source": [
    "IntAct_ppi_dat = IntAct_ppi_dat[IntAct_ppi_dat['Host organism(s)'].str.contains(r'taxid:9606')]\n",
    "IntAct_ppi_dat = IntAct_ppi_dat[IntAct_ppi_dat['Taxid interactor A'].str.contains(r'taxid:9606')]\n",
    "IntAct_ppi_dat = IntAct_ppi_dat[IntAct_ppi_dat['Taxid interactor B'].str.contains(r'taxid:9606')].reset_index(drop = True)\n",
    "IntAct_ppi_dat = IntAct_ppi_dat.rename(columns={'#ID(s) interactor A' : 'protein1', 'ID(s) interactor B': 'protein2' , 'Publication Identifier(s)':'Source'})\n",
    "\n",
    "IntAct_ppi_dat1 = IntAct_ppi_dat[['protein1','protein2','Source']]\n",
    "IntAct_ppi_dat2 = IntAct_ppi_dat[['protein2','protein1','Source']]\n",
    "IntAct_ppi_dat2 = IntAct_ppi_dat2.rename(columns={'protein2' : 'protein1', 'protein1': 'protein2'})\n",
    "\n",
    "IntAct_net_final = pd.concat([IntAct_ppi_dat1, IntAct_ppi_dat2]).reset_index(drop=True)\n",
    "IntAct_net_final['Source'] = ['IntAct ('+str(x) +')' for x in IntAct_net_final['Source']]\n",
    "  \n",
    "IntAct_net_final = IntAct_net_final[IntAct_net_final['protein1'].str.contains(r'uniprotkb')]\n",
    "IntAct_net_final = IntAct_net_final[IntAct_net_final['protein2'].str.contains(r'uniprotkb')]\n",
    "\n",
    "IntAct_net_final['protein1'] = IntAct_net_final['protein1'].str.replace('uniprotkb:',' ')\n",
    "IntAct_net_final['protein2'] = IntAct_net_final['protein2'].str.replace('uniprotkb:',' ')\n"
   ]
  },
  {
   "cell_type": "code",
   "execution_count": 18,
   "id": "0a186ed9-6c21-47e3-8b35-495d208a5fa3",
   "metadata": {},
   "outputs": [
    {
     "name": "stdout",
     "output_type": "stream",
     "text": [
      "100% [....................................................] 37402727 / 37402727"
     ]
    }
   ],
   "source": [
    "#uniprot ID mapping\n",
    "uniprot_id_url = \"https://ftp.uniprot.org/pub/databases/uniprot/current_release/knowledgebase/idmapping/by_organism/HUMAN_9606_idmapping.dat.gz\"\n",
    "uniprot_id_file = \"uniprot_id\" + date + '.gz'\n",
    "response = wget.download(uniprot_id_url, uniprot_id_file)\n"
   ]
  },
  {
   "cell_type": "code",
   "execution_count": 2,
   "id": "fe7f5ba1-73ef-4667-ace1-a267fcc28a2a",
   "metadata": {},
   "outputs": [
    {
     "ename": "NameError",
     "evalue": "name 'pd' is not defined",
     "output_type": "error",
     "traceback": [
      "\u001b[0;31m---------------------------------------------------------------------------\u001b[0m",
      "\u001b[0;31mNameError\u001b[0m                                 Traceback (most recent call last)",
      "\u001b[0;32m/var/folders/45/5tj8l_0n4pg_tfdjdr5_n1d00000gp/T/ipykernel_64018/2894962848.py\u001b[0m in \u001b[0;36m<module>\u001b[0;34m\u001b[0m\n\u001b[0;32m----> 1\u001b[0;31m \u001b[0muniprot_id_dat\u001b[0m \u001b[0;34m=\u001b[0m \u001b[0mpd\u001b[0m\u001b[0;34m.\u001b[0m\u001b[0mread_csv\u001b[0m\u001b[0;34m(\u001b[0m\u001b[0muniprot_id_file\u001b[0m\u001b[0;34m,\u001b[0m \u001b[0msep\u001b[0m\u001b[0;34m=\u001b[0m \u001b[0;34m'\\t'\u001b[0m\u001b[0;34m,\u001b[0m\u001b[0mlow_memory\u001b[0m\u001b[0;34m=\u001b[0m\u001b[0;32mFalse\u001b[0m\u001b[0;34m,\u001b[0m \u001b[0mheader\u001b[0m \u001b[0;34m=\u001b[0m \u001b[0;32mNone\u001b[0m\u001b[0;34m)\u001b[0m\u001b[0;34m\u001b[0m\u001b[0;34m\u001b[0m\u001b[0m\n\u001b[0m\u001b[1;32m      2\u001b[0m \u001b[0muniprot_id_dat\u001b[0m \u001b[0;34m=\u001b[0m \u001b[0muniprot_id_dat\u001b[0m\u001b[0;34m[\u001b[0m\u001b[0muniprot_id_dat\u001b[0m\u001b[0;34m[\u001b[0m\u001b[0;36m1\u001b[0m\u001b[0;34m]\u001b[0m \u001b[0;34m==\u001b[0m \u001b[0;34m'Gene_Name'\u001b[0m\u001b[0;34m]\u001b[0m\u001b[0;34m\u001b[0m\u001b[0;34m\u001b[0m\u001b[0m\n\u001b[1;32m      3\u001b[0m \u001b[0muniprot_id_dat\u001b[0m \u001b[0;34m=\u001b[0m \u001b[0muniprot_id_dat\u001b[0m\u001b[0;34m.\u001b[0m\u001b[0mreset_index\u001b[0m\u001b[0;34m(\u001b[0m\u001b[0mdrop\u001b[0m \u001b[0;34m=\u001b[0m \u001b[0;32mTrue\u001b[0m\u001b[0;34m)\u001b[0m\u001b[0;34m\u001b[0m\u001b[0;34m\u001b[0m\u001b[0m\n",
      "\u001b[0;31mNameError\u001b[0m: name 'pd' is not defined"
     ]
    }
   ],
   "source": [
    "uniprot_id_dat = pd.read_csv(uniprot_id_file, sep= '\\t',low_memory=False, header = None)\n",
    "uniprot_id_dat = uniprot_id_dat[uniprot_id_dat[1] == 'Gene_Name']\n",
    "uniprot_id_dat = uniprot_id_dat.reset_index(drop = True)\n"
   ]
  },
  {
   "cell_type": "code",
   "execution_count": 1,
   "id": "ddb54158-7927-4a0a-95e0-a899542d50e7",
   "metadata": {},
   "outputs": [
    {
     "ename": "NameError",
     "evalue": "name 'uniprot_id_dat' is not defined",
     "output_type": "error",
     "traceback": [
      "\u001b[0;31m---------------------------------------------------------------------------\u001b[0m",
      "\u001b[0;31mNameError\u001b[0m                                 Traceback (most recent call last)",
      "\u001b[0;32m/var/folders/45/5tj8l_0n4pg_tfdjdr5_n1d00000gp/T/ipykernel_64018/4108281673.py\u001b[0m in \u001b[0;36m<module>\u001b[0;34m\u001b[0m\n\u001b[0;32m----> 1\u001b[0;31m \u001b[0muniprot_id_dict\u001b[0m \u001b[0;34m=\u001b[0m \u001b[0mdict\u001b[0m\u001b[0;34m(\u001b[0m\u001b[0mzip\u001b[0m\u001b[0;34m(\u001b[0m\u001b[0muniprot_id_dat\u001b[0m\u001b[0;34m[\u001b[0m\u001b[0;36m0\u001b[0m\u001b[0;34m]\u001b[0m\u001b[0;34m,\u001b[0m\u001b[0muniprot_id_dat\u001b[0m\u001b[0;34m[\u001b[0m\u001b[0;36m2\u001b[0m\u001b[0;34m]\u001b[0m\u001b[0;34m)\u001b[0m\u001b[0;34m)\u001b[0m\u001b[0;34m\u001b[0m\u001b[0;34m\u001b[0m\u001b[0m\n\u001b[0m\u001b[1;32m      2\u001b[0m \u001b[0mIntAct_net_final\u001b[0m\u001b[0;34m.\u001b[0m\u001b[0mreplace\u001b[0m\u001b[0;34m(\u001b[0m\u001b[0;34m{\u001b[0m\u001b[0;34m'protein1'\u001b[0m\u001b[0;34m:\u001b[0m \u001b[0muniprot_id_dict\u001b[0m\u001b[0;34m}\u001b[0m\u001b[0;34m)\u001b[0m\u001b[0;34m\u001b[0m\u001b[0;34m\u001b[0m\u001b[0m\n\u001b[1;32m      3\u001b[0m \u001b[0mIntAct_net_final\u001b[0m\u001b[0;34m.\u001b[0m\u001b[0mreplace\u001b[0m\u001b[0;34m(\u001b[0m\u001b[0;34m{\u001b[0m\u001b[0;34m'protein2'\u001b[0m\u001b[0;34m:\u001b[0m \u001b[0muniprot_id_dict\u001b[0m\u001b[0;34m}\u001b[0m\u001b[0;34m)\u001b[0m\u001b[0;34m\u001b[0m\u001b[0;34m\u001b[0m\u001b[0m\n",
      "\u001b[0;31mNameError\u001b[0m: name 'uniprot_id_dat' is not defined"
     ]
    }
   ],
   "source": [
    "uniprot_id_dict = dict(zip(uniprot_id_dat[0],uniprot_id_dat[2]))\n",
    "IntAct_net_final.replace({'protein1': uniprot_id_dict})\n",
    "IntAct_net_final.replace({'protein2': uniprot_id_dict})"
   ]
  },
  {
   "cell_type": "code",
   "execution_count": null,
   "id": "4705a138-2f70-4f27-9048-3c86e8a2d157",
   "metadata": {},
   "outputs": [],
   "source": [
    "HelkaGoos_net_final.replace({'protein1': uniprot_id_dict})\n",
    "HelkaGoos_net_final.replace({'protein2': uniprot_id_dict})\n",
    "\n"
   ]
  },
  {
   "cell_type": "code",
   "execution_count": 38,
   "id": "5febf3f6-d5d4-45ee-b824-91b6d83afac9",
   "metadata": {},
   "outputs": [
    {
     "name": "stdout",
     "output_type": "stream",
     "text": [
      "100% [........................................................] 297659 / 297659"
     ]
    }
   ],
   "source": [
    "#Download trrust database\n",
    "Trrust_network_url = \"https://www.grnpedia.org/trrust/data/trrust_rawdata.human.tsv\"\n",
    "Trrust_url_file = \"Trrust_PPI_\" + date + '.txt'\n",
    "response = wget.download(Trrust_network_url, Trrust_url_file)\n"
   ]
  },
  {
   "cell_type": "code",
   "execution_count": 39,
   "id": "2db7b770-236e-4fcc-85c4-7c53e6c5f1ad",
   "metadata": {},
   "outputs": [],
   "source": [
    "Trrust_ppi_dat = pd.read_csv(Trrust_url_file, sep= '\\t',low_memory=False, header = None)\n",
    "Trrust_ppi_dat = Trrust_ppi_dat.rename(columns={0 :'protein1',1:'protein2', 3:'Source'})\n",
    "Trrust_ppi_dat = Trrust_ppi_dat[['protein1','protein2','Source']]\n",
    "Trrust_ppi_dat['Source'] = ['Trrust ('+str(x) +')' for x in Trrust_ppi_dat['Source']]\n",
    "\n"
   ]
  },
  {
   "cell_type": "code",
   "execution_count": 22,
   "id": "9f932bac-c641-4cd3-8601-3e17589cc454",
   "metadata": {},
   "outputs": [
    {
     "name": "stdout",
     "output_type": "stream",
     "text": [
      "100% [....................................................] 56484612 / 56484612"
     ]
    }
   ],
   "source": [
    "hTFtarget_network_url = \"http://bioinfo.life.hust.edu.cn/static/hTFtarget/file_download/tf-target-infomation.txt\"\n",
    "hTFtarget_url_file = \"hTFtarget_PPI_\" + date + '.txt'\n",
    "response = wget.download(hTFtarget_network_url, hTFtarget_url_file)"
   ]
  },
  {
   "cell_type": "code",
   "execution_count": 24,
   "id": "7e24c5e2-4210-426d-80ef-f1f40b3d3757",
   "metadata": {},
   "outputs": [
    {
     "data": {
      "text/html": [
       "<div>\n",
       "<style scoped>\n",
       "    .dataframe tbody tr th:only-of-type {\n",
       "        vertical-align: middle;\n",
       "    }\n",
       "\n",
       "    .dataframe tbody tr th {\n",
       "        vertical-align: top;\n",
       "    }\n",
       "\n",
       "    .dataframe thead th {\n",
       "        text-align: right;\n",
       "    }\n",
       "</style>\n",
       "<table border=\"1\" class=\"dataframe\">\n",
       "  <thead>\n",
       "    <tr style=\"text-align: right;\">\n",
       "      <th></th>\n",
       "      <th>TF</th>\n",
       "      <th>target</th>\n",
       "      <th>tissue</th>\n",
       "    </tr>\n",
       "  </thead>\n",
       "  <tbody>\n",
       "    <tr>\n",
       "      <th>0</th>\n",
       "      <td>AEBP2</td>\n",
       "      <td>TMEM53</td>\n",
       "      <td>colon</td>\n",
       "    </tr>\n",
       "    <tr>\n",
       "      <th>1</th>\n",
       "      <td>AEBP2</td>\n",
       "      <td>C1orf228</td>\n",
       "      <td>colon</td>\n",
       "    </tr>\n",
       "    <tr>\n",
       "      <th>2</th>\n",
       "      <td>AEBP2</td>\n",
       "      <td>FBXO31</td>\n",
       "      <td>colon</td>\n",
       "    </tr>\n",
       "    <tr>\n",
       "      <th>3</th>\n",
       "      <td>AEBP2</td>\n",
       "      <td>ADAMTSL5</td>\n",
       "      <td>colon</td>\n",
       "    </tr>\n",
       "    <tr>\n",
       "      <th>4</th>\n",
       "      <td>AEBP2</td>\n",
       "      <td>CTB-25B13.9</td>\n",
       "      <td>colon</td>\n",
       "    </tr>\n",
       "    <tr>\n",
       "      <th>...</th>\n",
       "      <td>...</td>\n",
       "      <td>...</td>\n",
       "      <td>...</td>\n",
       "    </tr>\n",
       "    <tr>\n",
       "      <th>1342124</th>\n",
       "      <td>CCDC101</td>\n",
       "      <td>CLN3</td>\n",
       "      <td>unclear</td>\n",
       "    </tr>\n",
       "    <tr>\n",
       "      <th>1342125</th>\n",
       "      <td>CCDC101</td>\n",
       "      <td>RP11-666O2.1</td>\n",
       "      <td>unclear</td>\n",
       "    </tr>\n",
       "    <tr>\n",
       "      <th>1342126</th>\n",
       "      <td>CCDC101</td>\n",
       "      <td>RP11-666O2.2</td>\n",
       "      <td>unclear</td>\n",
       "    </tr>\n",
       "    <tr>\n",
       "      <th>1342127</th>\n",
       "      <td>CCDC101</td>\n",
       "      <td>RP11-666O2.4</td>\n",
       "      <td>unclear</td>\n",
       "    </tr>\n",
       "    <tr>\n",
       "      <th>1342128</th>\n",
       "      <td>CCDC101</td>\n",
       "      <td>RP11-666O2.5</td>\n",
       "      <td>unclear</td>\n",
       "    </tr>\n",
       "  </tbody>\n",
       "</table>\n",
       "<p>1342129 rows × 3 columns</p>\n",
       "</div>"
      ],
      "text/plain": [
       "              TF        target   tissue\n",
       "0          AEBP2        TMEM53    colon\n",
       "1          AEBP2      C1orf228    colon\n",
       "2          AEBP2        FBXO31    colon\n",
       "3          AEBP2      ADAMTSL5    colon\n",
       "4          AEBP2   CTB-25B13.9    colon\n",
       "...          ...           ...      ...\n",
       "1342124  CCDC101          CLN3  unclear\n",
       "1342125  CCDC101  RP11-666O2.1  unclear\n",
       "1342126  CCDC101  RP11-666O2.2  unclear\n",
       "1342127  CCDC101  RP11-666O2.4  unclear\n",
       "1342128  CCDC101  RP11-666O2.5  unclear\n",
       "\n",
       "[1342129 rows x 3 columns]"
      ]
     },
     "execution_count": 24,
     "metadata": {},
     "output_type": "execute_result"
    }
   ],
   "source": [
    "hTFtarget_net_dat = pd.read_csv(hTFtarget_url_file, sep= '\\t',low_memory=False)\n",
    "hTFtarget_net_dat"
   ]
  },
  {
   "cell_type": "code",
   "execution_count": 27,
   "id": "0faeae01-ad06-44ba-9ab0-3037a25f624d",
   "metadata": {},
   "outputs": [
    {
     "data": {
      "text/html": [
       "<div>\n",
       "<style scoped>\n",
       "    .dataframe tbody tr th:only-of-type {\n",
       "        vertical-align: middle;\n",
       "    }\n",
       "\n",
       "    .dataframe tbody tr th {\n",
       "        vertical-align: top;\n",
       "    }\n",
       "\n",
       "    .dataframe thead th {\n",
       "        text-align: right;\n",
       "    }\n",
       "</style>\n",
       "<table border=\"1\" class=\"dataframe\">\n",
       "  <thead>\n",
       "    <tr style=\"text-align: right;\">\n",
       "      <th></th>\n",
       "      <th>protein1</th>\n",
       "      <th>protein2</th>\n",
       "      <th>Source</th>\n",
       "    </tr>\n",
       "  </thead>\n",
       "  <tbody>\n",
       "    <tr>\n",
       "      <th>0</th>\n",
       "      <td>AEBP2</td>\n",
       "      <td>TMEM53</td>\n",
       "      <td>hTFtasrget (colon)</td>\n",
       "    </tr>\n",
       "    <tr>\n",
       "      <th>1</th>\n",
       "      <td>AEBP2</td>\n",
       "      <td>C1orf228</td>\n",
       "      <td>hTFtasrget (colon)</td>\n",
       "    </tr>\n",
       "    <tr>\n",
       "      <th>2</th>\n",
       "      <td>AEBP2</td>\n",
       "      <td>FBXO31</td>\n",
       "      <td>hTFtasrget (colon)</td>\n",
       "    </tr>\n",
       "    <tr>\n",
       "      <th>3</th>\n",
       "      <td>AEBP2</td>\n",
       "      <td>ADAMTSL5</td>\n",
       "      <td>hTFtasrget (colon)</td>\n",
       "    </tr>\n",
       "    <tr>\n",
       "      <th>4</th>\n",
       "      <td>AEBP2</td>\n",
       "      <td>CTB-25B13.9</td>\n",
       "      <td>hTFtasrget (colon)</td>\n",
       "    </tr>\n",
       "    <tr>\n",
       "      <th>...</th>\n",
       "      <td>...</td>\n",
       "      <td>...</td>\n",
       "      <td>...</td>\n",
       "    </tr>\n",
       "    <tr>\n",
       "      <th>2684253</th>\n",
       "      <td>CCDC101</td>\n",
       "      <td>CLN3</td>\n",
       "      <td>hTFtasrget (unclear)</td>\n",
       "    </tr>\n",
       "    <tr>\n",
       "      <th>2684254</th>\n",
       "      <td>CCDC101</td>\n",
       "      <td>RP11-666O2.1</td>\n",
       "      <td>hTFtasrget (unclear)</td>\n",
       "    </tr>\n",
       "    <tr>\n",
       "      <th>2684255</th>\n",
       "      <td>CCDC101</td>\n",
       "      <td>RP11-666O2.2</td>\n",
       "      <td>hTFtasrget (unclear)</td>\n",
       "    </tr>\n",
       "    <tr>\n",
       "      <th>2684256</th>\n",
       "      <td>CCDC101</td>\n",
       "      <td>RP11-666O2.4</td>\n",
       "      <td>hTFtasrget (unclear)</td>\n",
       "    </tr>\n",
       "    <tr>\n",
       "      <th>2684257</th>\n",
       "      <td>CCDC101</td>\n",
       "      <td>RP11-666O2.5</td>\n",
       "      <td>hTFtasrget (unclear)</td>\n",
       "    </tr>\n",
       "  </tbody>\n",
       "</table>\n",
       "<p>2684258 rows × 3 columns</p>\n",
       "</div>"
      ],
      "text/plain": [
       "        protein1      protein2                Source\n",
       "0          AEBP2        TMEM53    hTFtasrget (colon)\n",
       "1          AEBP2      C1orf228    hTFtasrget (colon)\n",
       "2          AEBP2        FBXO31    hTFtasrget (colon)\n",
       "3          AEBP2      ADAMTSL5    hTFtasrget (colon)\n",
       "4          AEBP2   CTB-25B13.9    hTFtasrget (colon)\n",
       "...          ...           ...                   ...\n",
       "2684253  CCDC101          CLN3  hTFtasrget (unclear)\n",
       "2684254  CCDC101  RP11-666O2.1  hTFtasrget (unclear)\n",
       "2684255  CCDC101  RP11-666O2.2  hTFtasrget (unclear)\n",
       "2684256  CCDC101  RP11-666O2.4  hTFtasrget (unclear)\n",
       "2684257  CCDC101  RP11-666O2.5  hTFtasrget (unclear)\n",
       "\n",
       "[2684258 rows x 3 columns]"
      ]
     },
     "execution_count": 27,
     "metadata": {},
     "output_type": "execute_result"
    }
   ],
   "source": [
    "hTFtarget_net_dat = hTFtarget_net_dat.rename(columns={'TF' :'protein1','target':'protein2', 'tissue':'Source'})\n",
    "hTFtarget_net_dat = hTFtarget_net_dat[['protein1','protein2','Source']]\n",
    "hTFtarget_net_dat['Source'] = ['hTFtarget ('+str(x) +')' for x in hTFtarget_net_dat['Source']]\n",
    "hTFtarget_net_dat1 = hTFtarget_net_dat[['protein1','protein2','Source']]\n",
    "hTFtarget_net_dat2 = hTFtarget_net_dat[['protein2','protein1','Source']]\n",
    "hTFtarget_net_final = pd.concat([hTFtarget_net_dat1, hTFtarget_net_dat2]).reset_index(drop=True)\n",
    "hTFtarget_net_final\n"
   ]
  },
  {
   "cell_type": "code",
   "execution_count": 81,
   "id": "8d0ee575-a8d6-4b66-846d-168f19534395",
   "metadata": {},
   "outputs": [
    {
     "name": "stdout",
     "output_type": "stream",
     "text": [
      "100% [........................................................] 753164 / 753164"
     ]
    }
   ],
   "source": [
    "TRANSFAC_curated_network_url = \"https://maayanlab.cloud/static/hdfs/harmonizome/data/transfac/gene_attribute_edges.txt.gz\"\n",
    "TRANSFAC_curated_url_file = \"TRANSFAC_PPI_\" + date + '.txt.gz'\n",
    "response = wget.download(TRANSFAC_curated_network_url, TRANSFAC_curated_url_file)\n"
   ]
  },
  {
   "cell_type": "code",
   "execution_count": 86,
   "id": "f162ef03-bbaf-4145-a159-3793d9545ab7",
   "metadata": {},
   "outputs": [
    {
     "data": {
      "text/html": [
       "<div>\n",
       "<style scoped>\n",
       "    .dataframe tbody tr th:only-of-type {\n",
       "        vertical-align: middle;\n",
       "    }\n",
       "\n",
       "    .dataframe tbody tr th {\n",
       "        vertical-align: top;\n",
       "    }\n",
       "\n",
       "    .dataframe thead th {\n",
       "        text-align: right;\n",
       "    }\n",
       "</style>\n",
       "<table border=\"1\" class=\"dataframe\">\n",
       "  <thead>\n",
       "    <tr style=\"text-align: right;\">\n",
       "      <th></th>\n",
       "      <th>protein1</th>\n",
       "      <th>protein2</th>\n",
       "      <th>Source</th>\n",
       "    </tr>\n",
       "  </thead>\n",
       "  <tbody>\n",
       "    <tr>\n",
       "      <th>1</th>\n",
       "      <td>ALX1</td>\n",
       "      <td>SLC16A9</td>\n",
       "      <td>TRANSFAC_C</td>\n",
       "    </tr>\n",
       "    <tr>\n",
       "      <th>2</th>\n",
       "      <td>ALX1</td>\n",
       "      <td>SLC26A3</td>\n",
       "      <td>TRANSFAC_C</td>\n",
       "    </tr>\n",
       "    <tr>\n",
       "      <th>3</th>\n",
       "      <td>ALX1</td>\n",
       "      <td>ABHD17B</td>\n",
       "      <td>TRANSFAC_C</td>\n",
       "    </tr>\n",
       "    <tr>\n",
       "      <th>4</th>\n",
       "      <td>ALX1</td>\n",
       "      <td>KIRREL3-AS3</td>\n",
       "      <td>TRANSFAC_C</td>\n",
       "    </tr>\n",
       "    <tr>\n",
       "      <th>5</th>\n",
       "      <td>ALX1</td>\n",
       "      <td>ELF5</td>\n",
       "      <td>TRANSFAC_C</td>\n",
       "    </tr>\n",
       "    <tr>\n",
       "      <th>...</th>\n",
       "      <td>...</td>\n",
       "      <td>...</td>\n",
       "      <td>...</td>\n",
       "    </tr>\n",
       "    <tr>\n",
       "      <th>100556</th>\n",
       "      <td>ZNF423</td>\n",
       "      <td>HEBP2</td>\n",
       "      <td>TRANSFAC_C</td>\n",
       "    </tr>\n",
       "    <tr>\n",
       "      <th>100557</th>\n",
       "      <td>ZNF423</td>\n",
       "      <td>RASAL2</td>\n",
       "      <td>TRANSFAC_C</td>\n",
       "    </tr>\n",
       "    <tr>\n",
       "      <th>100558</th>\n",
       "      <td>ZNF423</td>\n",
       "      <td>FAM84A</td>\n",
       "      <td>TRANSFAC_C</td>\n",
       "    </tr>\n",
       "    <tr>\n",
       "      <th>100559</th>\n",
       "      <td>ZNF423</td>\n",
       "      <td>NSMCE1</td>\n",
       "      <td>TRANSFAC_C</td>\n",
       "    </tr>\n",
       "    <tr>\n",
       "      <th>100560</th>\n",
       "      <td>ZNF423</td>\n",
       "      <td>CDKN1A</td>\n",
       "      <td>TRANSFAC_C</td>\n",
       "    </tr>\n",
       "  </tbody>\n",
       "</table>\n",
       "<p>89368 rows × 3 columns</p>\n",
       "</div>"
      ],
      "text/plain": [
       "       protein1     protein2      Source\n",
       "1          ALX1      SLC16A9  TRANSFAC_C\n",
       "2          ALX1      SLC26A3  TRANSFAC_C\n",
       "3          ALX1      ABHD17B  TRANSFAC_C\n",
       "4          ALX1  KIRREL3-AS3  TRANSFAC_C\n",
       "5          ALX1         ELF5  TRANSFAC_C\n",
       "...         ...          ...         ...\n",
       "100556   ZNF423        HEBP2  TRANSFAC_C\n",
       "100557   ZNF423       RASAL2  TRANSFAC_C\n",
       "100558   ZNF423       FAM84A  TRANSFAC_C\n",
       "100559   ZNF423       NSMCE1  TRANSFAC_C\n",
       "100560   ZNF423       CDKN1A  TRANSFAC_C\n",
       "\n",
       "[89368 rows x 3 columns]"
      ]
     },
     "execution_count": 86,
     "metadata": {},
     "output_type": "execute_result"
    }
   ],
   "source": [
    "TRANSFAC_curated_net_dat = pd.read_csv(TRANSFAC_curated_url_file, sep= '\\t',low_memory=False)\n",
    "TRANSFAC_curated_net_dat = TRANSFAC_curated_net_dat[['target', 'source']]\n",
    "TRANSFAC_curated_net_dat = TRANSFAC_curated_net_dat.rename(columns={'target' :'protein1','source':'protein2'})\n",
    "TRANSFAC_curated_net_dat['Source'] = 'TRANSFAC_C'\n",
    "TRANSFAC_curated_final = TRANSFAC_curated_net_dat[TRANSFAC_curated_net_dat['protein1'].isin(TF_list)].drop_duplicates()\n",
    "TRANSFAC_curated_final"
   ]
  },
  {
   "cell_type": "code",
   "execution_count": 87,
   "id": "5297b01c-d8b9-4147-80f4-dd00399a112d",
   "metadata": {},
   "outputs": [
    {
     "name": "stdout",
     "output_type": "stream",
     "text": [
      "100% [......................................................] 1876875 / 1876875"
     ]
    }
   ],
   "source": [
    "TRANSFAC_P_network_url = \"https://maayanlab.cloud/static/hdfs/harmonizome/data/transfacpwm/gene_attribute_edges.txt.gz\"\n",
    "TRANSFAC_P_url_file = \"TRANSFAC_PPI_P_\" + date + '.txt.gz'\n",
    "response = wget.download(TRANSFAC_P_network_url, TRANSFAC_P_url_file)"
   ]
  },
  {
   "cell_type": "code",
   "execution_count": 89,
   "id": "5bda408d-30f6-4040-9554-7e357309ca8a",
   "metadata": {},
   "outputs": [
    {
     "data": {
      "text/html": [
       "<div>\n",
       "<style scoped>\n",
       "    .dataframe tbody tr th:only-of-type {\n",
       "        vertical-align: middle;\n",
       "    }\n",
       "\n",
       "    .dataframe tbody tr th {\n",
       "        vertical-align: top;\n",
       "    }\n",
       "\n",
       "    .dataframe thead th {\n",
       "        text-align: right;\n",
       "    }\n",
       "</style>\n",
       "<table border=\"1\" class=\"dataframe\">\n",
       "  <thead>\n",
       "    <tr style=\"text-align: right;\">\n",
       "      <th></th>\n",
       "      <th>protein1</th>\n",
       "      <th>protein2</th>\n",
       "      <th>Source</th>\n",
       "    </tr>\n",
       "  </thead>\n",
       "  <tbody>\n",
       "    <tr>\n",
       "      <th>1</th>\n",
       "      <td>SNAI1</td>\n",
       "      <td>FAM71E1</td>\n",
       "      <td>TRANSFAC_P</td>\n",
       "    </tr>\n",
       "    <tr>\n",
       "      <th>2</th>\n",
       "      <td>SNAI1</td>\n",
       "      <td>TPSG1</td>\n",
       "      <td>TRANSFAC_P</td>\n",
       "    </tr>\n",
       "    <tr>\n",
       "      <th>3</th>\n",
       "      <td>SNAI1</td>\n",
       "      <td>GSDMD</td>\n",
       "      <td>TRANSFAC_P</td>\n",
       "    </tr>\n",
       "    <tr>\n",
       "      <th>4</th>\n",
       "      <td>SNAI1</td>\n",
       "      <td>SULT2B1</td>\n",
       "      <td>TRANSFAC_P</td>\n",
       "    </tr>\n",
       "    <tr>\n",
       "      <th>5</th>\n",
       "      <td>SNAI1</td>\n",
       "      <td>RORC</td>\n",
       "      <td>TRANSFAC_P</td>\n",
       "    </tr>\n",
       "    <tr>\n",
       "      <th>...</th>\n",
       "      <td>...</td>\n",
       "      <td>...</td>\n",
       "      <td>...</td>\n",
       "    </tr>\n",
       "    <tr>\n",
       "      <th>229517</th>\n",
       "      <td>FOXM1</td>\n",
       "      <td>FCN3</td>\n",
       "      <td>TRANSFAC_P</td>\n",
       "    </tr>\n",
       "    <tr>\n",
       "      <th>229518</th>\n",
       "      <td>FOXM1</td>\n",
       "      <td>TBATA</td>\n",
       "      <td>TRANSFAC_P</td>\n",
       "    </tr>\n",
       "    <tr>\n",
       "      <th>229519</th>\n",
       "      <td>FOXM1</td>\n",
       "      <td>FAAH</td>\n",
       "      <td>TRANSFAC_P</td>\n",
       "    </tr>\n",
       "    <tr>\n",
       "      <th>229520</th>\n",
       "      <td>FOXM1</td>\n",
       "      <td>CORIN</td>\n",
       "      <td>TRANSFAC_P</td>\n",
       "    </tr>\n",
       "    <tr>\n",
       "      <th>229521</th>\n",
       "      <td>FOXM1</td>\n",
       "      <td>FAM205A</td>\n",
       "      <td>TRANSFAC_P</td>\n",
       "    </tr>\n",
       "  </tbody>\n",
       "</table>\n",
       "<p>209475 rows × 3 columns</p>\n",
       "</div>"
      ],
      "text/plain": [
       "       protein1 protein2      Source\n",
       "1         SNAI1  FAM71E1  TRANSFAC_P\n",
       "2         SNAI1    TPSG1  TRANSFAC_P\n",
       "3         SNAI1    GSDMD  TRANSFAC_P\n",
       "4         SNAI1  SULT2B1  TRANSFAC_P\n",
       "5         SNAI1     RORC  TRANSFAC_P\n",
       "...         ...      ...         ...\n",
       "229517    FOXM1     FCN3  TRANSFAC_P\n",
       "229518    FOXM1    TBATA  TRANSFAC_P\n",
       "229519    FOXM1     FAAH  TRANSFAC_P\n",
       "229520    FOXM1    CORIN  TRANSFAC_P\n",
       "229521    FOXM1  FAM205A  TRANSFAC_P\n",
       "\n",
       "[209475 rows x 3 columns]"
      ]
     },
     "execution_count": 89,
     "metadata": {},
     "output_type": "execute_result"
    }
   ],
   "source": [
    "TRANSFAC_P_net_dat = pd.read_csv(TRANSFAC_P_url_file, sep= '\\t',low_memory=False)\n",
    "TRANSFAC_P_net_dat = TRANSFAC_P_net_dat[['target', 'source']]\n",
    "TRANSFAC_P_net_dat = TRANSFAC_P_net_dat.rename(columns={'target' :'protein1','source':'protein2'})\n",
    "TRANSFAC_P_net_dat['Source'] = 'TRANSFAC_P'\n",
    "TRANSFAC_P_final = TRANSFAC_P_net_dat[TRANSFAC_P_net_dat['protein1'].isin(TF_list)].drop_duplicates()\n",
    "TRANSFAC_P_final"
   ]
  },
  {
   "cell_type": "code",
   "execution_count": null,
   "id": "f8266e75-515b-43a1-960a-63ff0b533441",
   "metadata": {},
   "outputs": [],
   "source": [
    "Trrust_net_final = Trrust_ppi_dat[Trrust_ppi_dat['protein1'].isin(TF_list)].drop_duplicates()\n",
    "string_net_final = string_net_final[string_net_final['protein1'].isin(TF_list)].drop_duplicates()\n",
    "biogrid_net_final = biogrid_net_final[biogrid_net_final['protein1'].isin(TF_list)].drop_duplicates()\n",
    "IntAct_net_final = IntAct_net_final[IntAct_net_final['protein1'].isin(TF_list)].drop_duplicates()\n",
    "HelkaGoos_net_final = HelkaGoos_net_final[HelkaGoos_net_final['protein1'].isin(TF_list)].drop_duplicates()\n",
    "hTFtarget_net_final = hTFtarget_net_final[hTFtarget_net_final['protein1'].isin(TF_list)].drop_duplicates()"
   ]
  },
  {
   "cell_type": "code",
   "execution_count": 77,
   "id": "a5783654-c8b1-463e-b0bb-a8d41ecb7b42",
   "metadata": {},
   "outputs": [],
   "source": [
    "dat=pd.concat([Trrust_net_final,hTFtarget_net_final,IntAct_net_final,HelkaGoos_net_final,biogrid_net_final,string_net_final,TRANSFAC_P_final,TRANSFAC_curated_final]).reset_index(drop=True)\n",
    "dat = dat.groupby(['protein1','protein2'])[\"Source\"].apply(lambda item:', '.join(item)).reset_index()\n",
    "\n",
    "Final_edge_file_name = \"Human_TFtarget_GS_\" + date + \".csv\"\n",
    "Tftarget_file =  \"Human_TFtarget_GS_\" + date + \".txt\"\n",
    "\n",
    "dat.to_csv(Tftarget_file, sep=\"\\t\")\n",
    "Final_edge_file = dat[['protein1','protein2']]\n",
    "Final_edge_file.to_csv(Final_edge_file_name, header = False, index = False)\n",
    "\n"
   ]
  }
 ],
 "metadata": {
  "kernelspec": {
   "display_name": "Python 3 (ipykernel)",
   "language": "python",
   "name": "python3"
  },
  "language_info": {
   "codemirror_mode": {
    "name": "ipython",
    "version": 3
   },
   "file_extension": ".py",
   "mimetype": "text/x-python",
   "name": "python",
   "nbconvert_exporter": "python",
   "pygments_lexer": "ipython3",
   "version": "3.9.7"
  }
 },
 "nbformat": 4,
 "nbformat_minor": 5
}
